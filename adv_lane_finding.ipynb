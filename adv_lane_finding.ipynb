{
 "cells": [
  {
   "cell_type": "markdown",
   "metadata": {},
   "source": [
    "## Advanced Lane Finding Project\n",
    "\n",
    "The goals / steps of this project are the following:\n",
    "\n",
    "* Compute the camera calibration matrix and distortion coefficients given a set of chessboard images.\n",
    "* Apply a distortion correction to raw images.\n",
    "* Use color transforms, gradients, etc., to create a thresholded binary image.\n",
    "* Apply a perspective transform to rectify binary image (\"birds-eye view\").\n",
    "* Detect lane pixels and fit to find the lane boundary.\n",
    "* Determine the curvature of the lane and vehicle position with respect to center.\n",
    "* Warp the detected lane boundaries back onto the original image.\n",
    "* Output visual display of the lane boundaries and numerical estimation of lane curvature and vehicle position.\n",
    "\n",
    "---\n",
    "## 1. Compute the camera calibration matrix and distortion coefficients using a set of chessboard images."
   ]
  },
  {
   "cell_type": "code",
   "execution_count": 1,
   "metadata": {
    "collapsed": true
   },
   "outputs": [
    {
     "output_type": "stream",
     "name": "stdout",
     "text": [
      "mtx:\n[[1.15777930e+03 0.00000000e+00 6.67111054e+02]\n [0.00000000e+00 1.15282291e+03 3.86128938e+02]\n [0.00000000e+00 0.00000000e+00 1.00000000e+00]]\ndist:\n[[-0.24688775 -0.02373132 -0.00109842  0.00035108 -0.00258571]]\n"
     ]
    }
   ],
   "source": [
    "import numpy as np\n",
    "import cv2\n",
    "import glob\n",
    "import matplotlib.pyplot as plt\n",
    "import matplotlib.image as mpimg\n",
    "%matplotlib qt\n",
    "\n",
    "# prepare object points, like (0,0,0), (1,0,0), (2,0,0) ....,(6,5,0)\n",
    "objp = np.zeros((6*9,3), np.float32)\n",
    "objp[:,:2] = np.mgrid[0:9,0:6].T.reshape(-1,2)\n",
    "\n",
    "# Arrays to store object points and image points from all the images.\n",
    "objpoints = [] # 3d points in real world space\n",
    "imgpoints = [] # 2d points in image plane.\n",
    "\n",
    "# Make a list of calibration images\n",
    "images = glob.glob('camera_cal/calibration*.jpg')\n",
    "\n",
    "# Step through the list and search for chessboard corners\n",
    "for fname in images:\n",
    "    img = cv2.imread(fname)\n",
    "    gray = cv2.cvtColor(img,cv2.COLOR_BGR2GRAY)\n",
    "\n",
    "    # Find the chessboard corners\n",
    "    ret, corners = cv2.findChessboardCorners(gray, (9,6),None)\n",
    "\n",
    "    # If found, add object points, image points\n",
    "    if ret == True:\n",
    "        objpoints.append(objp)\n",
    "        imgpoints.append(corners)\n",
    "\n",
    "        # Draw and display the corners\n",
    "        img = cv2.drawChessboardCorners(img, (9,6), corners, ret)\n",
    "    cv2.imshow('img',img)\n",
    "    cv2.waitKey(100)\n",
    "\n",
    "cv2.destroyAllWindows()\n",
    "\n",
    "# Get calibration image shape\n",
    "cal_img = cv2.imread(images[0])\n",
    "cal_img_shape = cal_img.shape[1::-1]\n",
    "\n",
    "# Calculate camera calibration params\n",
    "ret, mtx, dist, rvecs, tvecs = cv2.calibrateCamera(objpoints, imgpoints, cal_img_shape, None, None)\n",
    "\n",
    "print(\"mtx:\\n\"+str(mtx))\n",
    "print(\"dist:\\n\"+str(dist))"
   ]
  },
  {
   "source": [
    "## 1.1. Define `cal_undistort` function to apply a distortion correction to given images with parameters previously calculated"
   ],
   "cell_type": "markdown",
   "metadata": {}
  },
  {
   "cell_type": "code",
   "execution_count": 2,
   "metadata": {},
   "outputs": [],
   "source": [
    "# Returns undistorted image using the camera intrinsic and extrinsic parameters previously calculated\n",
    "def cal_undistort(img, mtx, dist):\n",
    "    undist = cv2.undistort(img, mtx, dist, None, mtx)\n",
    "    return undist"
   ]
  },
  {
   "cell_type": "markdown",
   "metadata": {},
   "source": [
    "## 1.2. Test camera calibration and distortion correction with a chessboard image"
   ]
  },
  {
   "cell_type": "code",
   "execution_count": 15,
   "metadata": {
    "collapsed": true
   },
   "outputs": [],
   "source": [
    "# Read an chessboard image\n",
    "img = mpimg.imread(images[9])\n",
    "\n",
    "# Undistort image\n",
    "undistorted = cal_undistort(img, mtx, dist)\n",
    "\n",
    "# Plot original image and the undistorted image\n",
    "f, (ax1, ax2) = plt.subplots(1, 2, figsize=(24, 9))\n",
    "f.tight_layout()\n",
    "ax1.imshow(img)\n",
    "ax1.set_title('Original Image', fontsize=50)\n",
    "ax2.imshow(undistorted)\n",
    "ax2.set_title('Undistorted Image', fontsize=50)\n",
    "plt.subplots_adjust(left=0.0, right=1.0, top=0.9, bottom=0.0)\n",
    "\n",
    "plt.savefig(\"output_images/camera_calibration.png\")"
   ]
  },
  {
   "source": [
    "# 2. Color and Gradient Threshold"
   ],
   "cell_type": "markdown",
   "metadata": {}
  },
  {
   "source": [
    "## 2.1 Define `cal_threshold` function to create a thresholded binary image by applying color transform to HLS colorspace, gradient in x with Sobel operator and threshold combination."
   ],
   "cell_type": "markdown",
   "metadata": {}
  },
  {
   "cell_type": "code",
   "execution_count": 28,
   "metadata": {},
   "outputs": [],
   "source": [
    "# Return the combined binary image of Sobel and S Channel thresholded\n",
    "def cal_threshold(img,hls_threshold=(170, 255),sobel_threshold=(20, 100),plot=False,savefig=False):\n",
    "\n",
    "    # Convert to HLS color space and separate the V channel\n",
    "    hls = cv2.cvtColor(img, cv2.COLOR_RGB2HLS)\n",
    "    h_channel = hls[:,:,0]\n",
    "    l_channel = hls[:,:,1]\n",
    "    s_channel = hls[:,:,2]\n",
    "\n",
    "    # Sobel x\n",
    "    sobelx = cv2.Sobel(s_channel, cv2.CV_64F, 1, 0) # Take the derivative in x\n",
    "    abs_sobelx = np.absolute(sobelx) # Absolute x derivative to accentuate lines away from horizontal\n",
    "    scaled_sobel = np.uint8(255*abs_sobelx/np.max(abs_sobelx))\n",
    "    \n",
    "    # Threshold x gradient\n",
    "    sxbinary = np.zeros_like(scaled_sobel)\n",
    "    sxbinary[(scaled_sobel >= sobel_threshold[0]) & (scaled_sobel <= sobel_threshold[1])] = 1\n",
    "    \n",
    "    # Threshold color channel\n",
    "    s_binary = np.zeros_like(s_channel)\n",
    "    s_binary[(s_channel >= hls_threshold[0]) & (s_channel <= hls_threshold[1])] = 1\n",
    "\n",
    "    # Stack each channel\n",
    "    color_binary = np.dstack(( np.zeros_like(sxbinary), sxbinary, s_binary)) * 255\n",
    "\n",
    "    # Combine the two binary thresholds\n",
    "    combined_binary = np.zeros_like(sxbinary)\n",
    "    combined_binary[(s_binary == 1) | (sxbinary == 1)] = 1\n",
    "\n",
    "    if plot:\n",
    "        # Plot each HLS channel\n",
    "        f, ((ax1, ax2, ax3), (ax4, ax5, ax6)) = plt.subplots(2, 3, figsize=(15, 9))\n",
    "\n",
    "        ax1.imshow(h_channel, cmap='gray')\n",
    "        ax1.set_title('H Channel', fontsize=20)\n",
    "        ax2.imshow(l_channel, cmap='gray')\n",
    "        ax2.set_title('L Channel', fontsize=20)\n",
    "        ax3.imshow(s_channel, cmap='gray')\n",
    "        ax3.set_title('S Channel', fontsize=20)\n",
    "\n",
    "        # Plot Sobel and S Channel thresholded\n",
    "        ax4.imshow(sxbinary, cmap='gray')\n",
    "        ax4.set_title('Sobel x Thresholded', fontsize=20)\n",
    "        ax5.imshow(s_binary, cmap='gray')\n",
    "        ax5.set_title('S Channel Thresholded', fontsize=20)\n",
    "\n",
    "        # Plot the combined Sobel and S Channel thresholded image\n",
    "        # ax5.imshow(color_binary)\n",
    "        # ax5.set_title('Stacked', fontsize=20)\n",
    "        ax6.imshow(combined_binary, cmap='gray')\n",
    "        ax6.set_title('Combined', fontsize=20)\n",
    "\n",
    "        plt.subplots_adjust(left=0.05, right=0.95, top=0.95, bottom=0.05)\n",
    "        if savefig:\n",
    "            plt.savefig(\"output_images/color_sobel_thresholds.png\")\n",
    "\n",
    "    return combined_binary"
   ]
  },
  {
   "source": [
    "## 2.2. Test `cal_threshold()` with test images"
   ],
   "cell_type": "markdown",
   "metadata": {}
  },
  {
   "cell_type": "code",
   "execution_count": 27,
   "metadata": {},
   "outputs": [],
   "source": [
    "# Read an chessboard image\n",
    "img = mpimg.imread(\"test_images/test1.jpg\")\n",
    "\n",
    "# Undistort image\n",
    "img_undistorted = cal_undistort(img, mtx, dist)\n",
    "\n",
    "img_thresholded = cal_threshold(img)\n",
    "img_und_thresholded = cal_threshold(img_undistorted,plot=True)\n",
    "\n",
    "# Plot original image, the undistorted image and the respectives thresholded images\n",
    "f, ((ax1, ax2), (ax3,ax4),(ax5,ax6)) = plt.subplots(3,2, figsize=(12, 11))\n",
    "# f.tight_layout()\n",
    "ax1.imshow(img)\n",
    "ax1.set_title('Original Image', fontsize=15)\n",
    "ax2.imshow(img_undistorted)\n",
    "ax2.set_title('Undistorted Image', fontsize=15)\n",
    "ax3.imshow(img_thresholded, cmap='gray')\n",
    "ax3.set_title('Thresholded Image', fontsize=15)\n",
    "ax4.imshow(img_und_thresholded, cmap='gray')\n",
    "ax4.set_title('Thresholded Undistorted Image', fontsize=15)\n",
    "\n",
    "# Check differences between the original and undistorted binary thresholds\n",
    "diff_binary = np.zeros_like(img_thresholded)\n",
    "diff_binary[((img_thresholded == 0) & (img_und_thresholded == 1)) | ((img_thresholded == 1) & (img_und_thresholded == 0))] = 1\n",
    "# diff_binary[(img_thresholded == 0) & (img_und_thresholded == 1)] = 1\n",
    "color_diff_binary = np.dstack(( img_thresholded,img_und_thresholded,np.zeros_like(img_und_thresholded))) * 255\n",
    "\n",
    "ax5.imshow(diff_binary, cmap='gray')\n",
    "ax5.set_title('Binary diff Image', fontsize=15)\n",
    "ax6.imshow(color_diff_binary)\n",
    "ax6.set_title('Colored diff Image', fontsize=15)\n",
    "\n",
    "plt.subplots_adjust(left=0.05, right=0.95, top=0.95, bottom=0.05)\n",
    "\n",
    "plt.savefig(\"output_images/image_thresholds.png\")"
   ]
  },
  {
   "source": [
    "# 3. Apply a perspective transform to rectify binary image (\"birds-eye view\")."
   ],
   "cell_type": "markdown",
   "metadata": {}
  },
  {
   "source": [
    "## 3.1. Define `cal_perspective()` to return a perspective transform of the lane region"
   ],
   "cell_type": "markdown",
   "metadata": {}
  },
  {
   "cell_type": "code",
   "execution_count": null,
   "metadata": {},
   "outputs": [],
   "source": [
    "def cal_perspective(img):\n"
   ]
  }
 ],
 "metadata": {
  "anaconda-cloud": {},
  "kernelspec": {
   "name": "python3",
   "display_name": "Python 3.6.9 64-bit ('cv': virtualenvwrapper)"
  },
  "language_info": {
   "codemirror_mode": {
    "name": "ipython",
    "version": 3
   },
   "file_extension": ".py",
   "mimetype": "text/x-python",
   "name": "python",
   "nbconvert_exporter": "python",
   "pygments_lexer": "ipython3",
   "version": "3.6.9"
  },
  "interpreter": {
   "hash": "6a0b733e851c76961a3549792236d53668940e76a299dd69e80c674f6368f9f8"
  }
 },
 "nbformat": 4,
 "nbformat_minor": 1
}